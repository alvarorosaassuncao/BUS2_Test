{
 "cells": [
  {
   "cell_type": "markdown",
   "id": "2b2fa1dd",
   "metadata": {},
   "source": [
    "# Teste Técnico para Analista de Dados (BUS2)"
   ]
  },
  {
   "cell_type": "code",
   "execution_count": 52,
   "id": "f50d45c8",
   "metadata": {},
   "outputs": [],
   "source": [
    "import pandas as pd\n",
    "import os\n",
    "import re\n",
    "import pyarrow\n",
    "import streamlit as st\n",
    "import sqlite3\n",
    "import matplotlib.pyplot as plt\n",
    "import seaborn as sns\n",
    "from matplotlib.backends.backend_pdf import PdfPages"
   ]
  },
  {
   "cell_type": "markdown",
   "id": "3c11fc8b",
   "metadata": {},
   "source": [
    "## Passo 1: Importação dos dados"
   ]
  },
  {
   "cell_type": "code",
   "execution_count": 53,
   "id": "2a74b99e",
   "metadata": {},
   "outputs": [],
   "source": [
    "DATA_PATH = \"data\"\n",
    "\n",
    "empregados_path = os.path.join(DATA_PATH, \"empregados.csv\")\n",
    "produtos_path = os.path.join(DATA_PATH, \"produtos.csv\")\n",
    "vendas_path = os.path.join(DATA_PATH, \"vendas.csv\")\n",
    "\n",
    "\n",
    "\n",
    "df_empregados = pd.read_csv(\"data/empregados.csv\")\n",
    "df_produtos = pd.read_csv(\"data/produtos.csv\")\n",
    "df_vendas = pd.read_csv(\"data/vendas.csv\")\n"
   ]
  },
  {
   "cell_type": "markdown",
   "id": "4ba247fc",
   "metadata": {},
   "source": [
    "### Leitura dos dados"
   ]
  },
  {
   "cell_type": "code",
   "execution_count": 54,
   "id": "0190009a",
   "metadata": {},
   "outputs": [
    {
     "name": "stdout",
     "output_type": "stream",
     "text": [
      "Empregados\n"
     ]
    },
    {
     "data": {
      "text/html": [
       "<div>\n",
       "<style scoped>\n",
       "    .dataframe tbody tr th:only-of-type {\n",
       "        vertical-align: middle;\n",
       "    }\n",
       "\n",
       "    .dataframe tbody tr th {\n",
       "        vertical-align: top;\n",
       "    }\n",
       "\n",
       "    .dataframe thead th {\n",
       "        text-align: right;\n",
       "    }\n",
       "</style>\n",
       "<table border=\"1\" class=\"dataframe\">\n",
       "  <thead>\n",
       "    <tr style=\"text-align: right;\">\n",
       "      <th></th>\n",
       "      <th>id_empregado</th>\n",
       "      <th>nome</th>\n",
       "      <th>cargo</th>\n",
       "      <th>idade</th>\n",
       "    </tr>\n",
       "  </thead>\n",
       "  <tbody>\n",
       "    <tr>\n",
       "      <th>0</th>\n",
       "      <td>1</td>\n",
       "      <td>Júlia Oliveira</td>\n",
       "      <td>Vendedor</td>\n",
       "      <td>NaN</td>\n",
       "    </tr>\n",
       "    <tr>\n",
       "      <th>1</th>\n",
       "      <td>2</td>\n",
       "      <td>Diogo Vieira</td>\n",
       "      <td>NaN</td>\n",
       "      <td>49.0</td>\n",
       "    </tr>\n",
       "    <tr>\n",
       "      <th>2</th>\n",
       "      <td>3</td>\n",
       "      <td>Sr. Rodrigo das Neves</td>\n",
       "      <td>Assistente</td>\n",
       "      <td>56.0</td>\n",
       "    </tr>\n",
       "    <tr>\n",
       "      <th>3</th>\n",
       "      <td>4</td>\n",
       "      <td>Isis Castro</td>\n",
       "      <td>Gerente</td>\n",
       "      <td>49.0</td>\n",
       "    </tr>\n",
       "    <tr>\n",
       "      <th>4</th>\n",
       "      <td>5</td>\n",
       "      <td>Leandro Azevedo</td>\n",
       "      <td>Vendedor</td>\n",
       "      <td>21.0</td>\n",
       "    </tr>\n",
       "  </tbody>\n",
       "</table>\n",
       "</div>"
      ],
      "text/plain": [
       "   id_empregado                   nome       cargo  idade\n",
       "0             1         Júlia Oliveira    Vendedor    NaN\n",
       "1             2           Diogo Vieira         NaN   49.0\n",
       "2             3  Sr. Rodrigo das Neves  Assistente   56.0\n",
       "3             4            Isis Castro     Gerente   49.0\n",
       "4             5        Leandro Azevedo    Vendedor   21.0"
      ]
     },
     "metadata": {},
     "output_type": "display_data"
    },
    {
     "name": "stdout",
     "output_type": "stream",
     "text": [
      "Produtos\n"
     ]
    },
    {
     "data": {
      "text/html": [
       "<div>\n",
       "<style scoped>\n",
       "    .dataframe tbody tr th:only-of-type {\n",
       "        vertical-align: middle;\n",
       "    }\n",
       "\n",
       "    .dataframe tbody tr th {\n",
       "        vertical-align: top;\n",
       "    }\n",
       "\n",
       "    .dataframe thead th {\n",
       "        text-align: right;\n",
       "    }\n",
       "</style>\n",
       "<table border=\"1\" class=\"dataframe\">\n",
       "  <thead>\n",
       "    <tr style=\"text-align: right;\">\n",
       "      <th></th>\n",
       "      <th>id_produto</th>\n",
       "      <th>nome</th>\n",
       "      <th>preco</th>\n",
       "      <th>categoria</th>\n",
       "    </tr>\n",
       "  </thead>\n",
       "  <tbody>\n",
       "    <tr>\n",
       "      <th>0</th>\n",
       "      <td>1</td>\n",
       "      <td>Produto 1</td>\n",
       "      <td>988.59</td>\n",
       "      <td>Livros</td>\n",
       "    </tr>\n",
       "    <tr>\n",
       "      <th>1</th>\n",
       "      <td>2</td>\n",
       "      <td>Produto 2</td>\n",
       "      <td>171.15</td>\n",
       "      <td>Roupas</td>\n",
       "    </tr>\n",
       "    <tr>\n",
       "      <th>2</th>\n",
       "      <td>3</td>\n",
       "      <td>Produto 3</td>\n",
       "      <td>187.95</td>\n",
       "      <td>Roupas</td>\n",
       "    </tr>\n",
       "    <tr>\n",
       "      <th>3</th>\n",
       "      <td>4</td>\n",
       "      <td>Produto 4</td>\n",
       "      <td>1206.87</td>\n",
       "      <td>Casa</td>\n",
       "    </tr>\n",
       "    <tr>\n",
       "      <th>4</th>\n",
       "      <td>5</td>\n",
       "      <td>Produto 5</td>\n",
       "      <td>1109.64</td>\n",
       "      <td>Roupas</td>\n",
       "    </tr>\n",
       "  </tbody>\n",
       "</table>\n",
       "</div>"
      ],
      "text/plain": [
       "   id_produto       nome    preco categoria\n",
       "0           1  Produto 1   988.59    Livros\n",
       "1           2  Produto 2   171.15    Roupas\n",
       "2           3  Produto 3   187.95    Roupas\n",
       "3           4  Produto 4  1206.87      Casa\n",
       "4           5  Produto 5  1109.64    Roupas"
      ]
     },
     "metadata": {},
     "output_type": "display_data"
    },
    {
     "name": "stdout",
     "output_type": "stream",
     "text": [
      "Vendas\n"
     ]
    },
    {
     "data": {
      "text/html": [
       "<div>\n",
       "<style scoped>\n",
       "    .dataframe tbody tr th:only-of-type {\n",
       "        vertical-align: middle;\n",
       "    }\n",
       "\n",
       "    .dataframe tbody tr th {\n",
       "        vertical-align: top;\n",
       "    }\n",
       "\n",
       "    .dataframe thead th {\n",
       "        text-align: right;\n",
       "    }\n",
       "</style>\n",
       "<table border=\"1\" class=\"dataframe\">\n",
       "  <thead>\n",
       "    <tr style=\"text-align: right;\">\n",
       "      <th></th>\n",
       "      <th>id_venda</th>\n",
       "      <th>data</th>\n",
       "      <th>id_produto</th>\n",
       "      <th>id_empregado</th>\n",
       "      <th>quantidade</th>\n",
       "      <th>valor_unitario</th>\n",
       "      <th>valor_total</th>\n",
       "    </tr>\n",
       "  </thead>\n",
       "  <tbody>\n",
       "    <tr>\n",
       "      <th>0</th>\n",
       "      <td>1</td>\n",
       "      <td>2023-03-16</td>\n",
       "      <td>70</td>\n",
       "      <td>18</td>\n",
       "      <td>2</td>\n",
       "      <td>279.58</td>\n",
       "      <td>559.16</td>\n",
       "    </tr>\n",
       "    <tr>\n",
       "      <th>1</th>\n",
       "      <td>2</td>\n",
       "      <td>2023-02-10</td>\n",
       "      <td>166</td>\n",
       "      <td>34</td>\n",
       "      <td>5</td>\n",
       "      <td>816.90</td>\n",
       "      <td>4084.50</td>\n",
       "    </tr>\n",
       "    <tr>\n",
       "      <th>2</th>\n",
       "      <td>3</td>\n",
       "      <td>2023-05-02</td>\n",
       "      <td>76</td>\n",
       "      <td>87</td>\n",
       "      <td>1</td>\n",
       "      <td>411.20</td>\n",
       "      <td>411.20</td>\n",
       "    </tr>\n",
       "    <tr>\n",
       "      <th>3</th>\n",
       "      <td>4</td>\n",
       "      <td>2023-01-27</td>\n",
       "      <td>57</td>\n",
       "      <td>31</td>\n",
       "      <td>5</td>\n",
       "      <td>20.89</td>\n",
       "      <td>104.45</td>\n",
       "    </tr>\n",
       "    <tr>\n",
       "      <th>4</th>\n",
       "      <td>5</td>\n",
       "      <td>2023-04-08</td>\n",
       "      <td>12</td>\n",
       "      <td>53</td>\n",
       "      <td>6</td>\n",
       "      <td>734.86</td>\n",
       "      <td>4409.16</td>\n",
       "    </tr>\n",
       "  </tbody>\n",
       "</table>\n",
       "</div>"
      ],
      "text/plain": [
       "   id_venda        data  id_produto  id_empregado  quantidade  valor_unitario  \\\n",
       "0         1  2023-03-16          70            18           2          279.58   \n",
       "1         2  2023-02-10         166            34           5          816.90   \n",
       "2         3  2023-05-02          76            87           1          411.20   \n",
       "3         4  2023-01-27          57            31           5           20.89   \n",
       "4         5  2023-04-08          12            53           6          734.86   \n",
       "\n",
       "   valor_total  \n",
       "0       559.16  \n",
       "1      4084.50  \n",
       "2       411.20  \n",
       "3       104.45  \n",
       "4      4409.16  "
      ]
     },
     "metadata": {},
     "output_type": "display_data"
    }
   ],
   "source": [
    "print(\"Empregados\")\n",
    "display(df_empregados.head())\n",
    "\n",
    "print(\"Produtos\")\n",
    "display(df_produtos.head())\n",
    "\n",
    "print(\"Vendas\")\n",
    "display(df_vendas.head())\n"
   ]
  },
  {
   "cell_type": "markdown",
   "id": "bde1c175",
   "metadata": {},
   "source": [
    "## Passo 2: Transformação dos Dados"
   ]
  },
  {
   "cell_type": "markdown",
   "id": "ea0a3416",
   "metadata": {},
   "source": [
    "### Removendo duplicatas"
   ]
  },
  {
   "cell_type": "code",
   "execution_count": 55,
   "id": "2ae09fff",
   "metadata": {},
   "outputs": [],
   "source": [
    "df_empregados = df_empregados.drop_duplicates()\n",
    "df_produtos = df_produtos.drop_duplicates()\n",
    "df_vendas = df_vendas.drop_duplicates()\n",
    "\n"
   ]
  },
  {
   "cell_type": "markdown",
   "id": "04040d5a",
   "metadata": {},
   "source": [
    "### Verificando valores Ausentes"
   ]
  },
  {
   "cell_type": "code",
   "execution_count": null,
   "id": "ddc3c2fd",
   "metadata": {},
   "outputs": [],
   "source": [
    "print(\"Valores ausentes - Empregados:\")\n",
    "print(df_empregados.isnull().sum())\n",
    "\n",
    "print(\"Valores ausentes - Produtos:\")\n",
    "print(df_produtos.isnull().sum())\n",
    "\n",
    "print(\"Valores ausentes - Vendas:\")\n",
    "print(df_vendas.isnull().sum())\n",
    "\n",
    "\n"
   ]
  },
  {
   "cell_type": "code",
   "execution_count": null,
   "id": "db7222f4",
   "metadata": {},
   "outputs": [],
   "source": [
    "df[\"preco\"] = df.groupby(\"categoria\")[\"preco\"].transform(lambda x: x.fillna(x.mean()))"
   ]
  },
  {
   "cell_type": "code",
   "execution_count": 89,
   "id": "67dfb649",
   "metadata": {},
   "outputs": [],
   "source": [
    "# substituição de dados ausentes com média\n",
    "df_empregados['idade'] = df_empregados['idade'].fillna(df_empregados['idade'].mean())\n",
    "\n",
    "# Cargo ausente = “DESCONHECIDO”\n",
    "df_empregados['cargo'] = df_empregados['cargo'].fillna('DESCONHECIDO')\n",
    "\n",
    "# Nome ausente = “NÃO INFORMADO”\n",
    "df_empregados['nome'] = df_empregados['nome'].fillna('NÃO INFORMADO')\n",
    "\n",
    "df_empregados[\"idade\"] = df_empregados[\"idade\"].round(0).astype(int)\n",
    "df_vendas[\"preco\"] = df.groupby(\"categoria\")[\"preco\"].transform(lambda x: x.fillna(x.mean()))\n",
    "\n",
    "# Substituiindo valores NULL da tabela preço de acordo comos valores por categoria \n",
    "df_vendas[\"preco\"] = df[\"preco\"].fillna(df.groupby(\"categoria\")[\"preco\"].transform(\"mean\"))\n"
   ]
  },
  {
   "cell_type": "markdown",
   "id": "3b7ef746",
   "metadata": {},
   "source": [
    "### Retirando Siglas dos nomes da tabela Empregados"
   ]
  },
  {
   "cell_type": "code",
   "execution_count": 91,
   "id": "3133a20c",
   "metadata": {},
   "outputs": [],
   "source": [
    "\n",
    "df_empregados['nome'] = df_empregados['nome'].apply(lambda x: re.sub(r'\\b(Sr\\.|Sra\\.|Dr\\.|Dra\\.)\\s*', '', x))\n",
    "\n",
    "# Uniformizar texto\n",
    "df_empregados['nome'] = df_empregados['nome'].str.strip().str.title()\n",
    "df_empregados['cargo'] = df_empregados['cargo'].str.strip().str.upper()\n"
   ]
  },
  {
   "cell_type": "markdown",
   "id": "434f77fd",
   "metadata": {},
   "source": [
    "### Checagem de integridade "
   ]
  },
  {
   "cell_type": "code",
   "execution_count": 92,
   "id": "440fe1a8",
   "metadata": {},
   "outputs": [
    {
     "name": "stdout",
     "output_type": "stream",
     "text": [
      "IDs inválidos de empregados em vendas: 0\n",
      "IDs inválidos de produtos em vendas: 0\n"
     ]
    }
   ],
   "source": [
    "\n",
    "vendas_ids_validos = df_vendas['id_empregado'].isin(df_empregados['id_empregado'])\n",
    "print(f\"IDs inválidos de empregados em vendas: {df_vendas[~vendas_ids_validos].shape[0]}\")\n",
    "\n",
    "produtos_ids_validos = df_vendas['id_produto'].isin(df_produtos['id_produto'])\n",
    "print(f\"IDs inválidos de produtos em vendas: {df_vendas[~produtos_ids_validos].shape[0]}\")"
   ]
  },
  {
   "cell_type": "code",
   "execution_count": null,
   "id": "4026f6c3",
   "metadata": {},
   "outputs": [],
   "source": [
    "# Excluir linhas incompletas em vendas\n",
    "df = df_vendas.dropna(subset=['quantidade', 'valor_unitario'], inplace=True)\n",
    "\n",
    "    # Substituir nome ou categoria ausente \n",
    "    df_produtos['nome'] = df_produtos['nome'].fillna('PRODUTO NÃO INFORMADO')\n",
    "    df_produtos['categoria'] = df_produtos['categoria'].fillna('DESCONHECIDA')\n",
    "\n",
    "    df_vendas[\"preco\"] = pd.to_numeric(df[\"preco\"], errors=\"coerce\")\n",
    "    df_vendas[\"preco\"] = df[\"preco\"].fillna(df.groupby(\"categoria\")[\"preco\"].transform(\"mean\"))\n"
   ]
  },
  {
   "cell_type": "markdown",
   "id": "33bae722",
   "metadata": {},
   "source": [
    "### SAlvando os dados tratados para serem usados no Power BI para melhor visualização."
   ]
  },
  {
   "cell_type": "code",
   "execution_count": 94,
   "id": "f7234488",
   "metadata": {},
   "outputs": [],
   "source": [
    "df_empregados.to_parquet(\"dados_tratados/empregados_tratado.parquet\", engine=\"pyarrow\", index=False)\n",
    "df_produtos.to_parquet(\"dados_tratados/produtos_tratado.parquet\", engine=\"pyarrow\", index=False)\n",
    "df_vendas.to_parquet(\"dados_tratados/vendas_tratado.parquet\", engine=\"pyarrow\", index=False)\n",
    "\n"
   ]
  },
  {
   "cell_type": "markdown",
   "id": "80f71878",
   "metadata": {},
   "source": [
    "## Juntando as tabelas com Merge "
   ]
  },
  {
   "cell_type": "code",
   "execution_count": 102,
   "id": "142e46c0",
   "metadata": {},
   "outputs": [],
   "source": [
    "\n",
    "df_merged = df_vendas.merge(df_empregados, on='id_empregado', how='left')\n",
    "df_merged = df_merged.merge(df_produtos, on='id_produto', how='left')\n",
    "\n",
    "df_merged['valor_total'] = df_merged['quantidade'] * df_merged['valor_unitario']\n",
    "\n",
    "df_resumo = df_merged.copy()\n",
    "\n",
    "\n",
    "df_resumo.to_csv(\"dados_tratados/resumo-vendas.csv\", index=False, encoding=\"utf-8-sig\")\n",
    "df_resumo.to_parquet(\"dados_tratados/resumo-vendas.parquet\", engine=\"pyarrow\", index=False)     "
   ]
  },
  {
   "cell_type": "code",
   "execution_count": 98,
   "id": "b725e658",
   "metadata": {},
   "outputs": [
    {
     "name": "stdout",
     "output_type": "stream",
     "text": [
      "     id_venda data  id_produto  id_empregado  quantidade  valor_unitario  \\\n",
      "9          10  NaN          54            98           7          614.30   \n",
      "18         20  NaN         149            81           3          734.90   \n",
      "27         30  NaN          93            86           8          544.10   \n",
      "36         40  NaN         140            59           9          682.85   \n",
      "46         50  NaN         101            98           9          895.97   \n",
      "..        ...  ...         ...           ...         ...             ...   \n",
      "886       960  NaN         134            69           9           68.51   \n",
      "895       970  NaN         118            45          10          875.56   \n",
      "904       980  NaN         151            96           7          488.96   \n",
      "913       990  NaN         192            88           8           40.62   \n",
      "923      1000  NaN          99            52           1           29.94   \n",
      "\n",
      "     valor_total  preco_x               nome_x       cargo  idade  \\\n",
      "9        4300.10  1535.55  Vitor Gabriel Ramos     GERENTE     41   \n",
      "18       2204.70   792.07        Não Informado  ASSISTENTE     28   \n",
      "27       4352.80  1726.96          Breno Rocha    VENDEDOR     58   \n",
      "36       6145.65  1206.87          Laura Silva    VENDEDOR     41   \n",
      "46       8063.73  1849.66  Vitor Gabriel Ramos     GERENTE     41   \n",
      "..           ...      ...                  ...         ...    ...   \n",
      "886       616.59      NaN     Maitê Cavalcanti    VENDEDOR     43   \n",
      "895      8755.60      NaN        Não Informado    VENDEDOR     28   \n",
      "904      3422.72      NaN        Calebe Da Luz     GERENTE     28   \n",
      "913       324.96      NaN      Alexia Caldeira     GERENTE     18   \n",
      "923        29.94      NaN  João Lucas Da Costa  ASSISTENTE     41   \n",
      "\n",
      "                    nome_y  preco_y     categoria  \n",
      "9               Produto 54  1535.55        Beleza  \n",
      "18             Produto 149   553.09  DESCONHECIDA  \n",
      "27              Produto 93   343.51          Casa  \n",
      "36             Produto 140      NaN   Eletrônicos  \n",
      "46             Produto 101   909.22        Roupas  \n",
      "..                     ...      ...           ...  \n",
      "886            Produto 134    32.28  DESCONHECIDA  \n",
      "895            Produto 118   333.84        Roupas  \n",
      "904            Produto 151  1757.05          Casa  \n",
      "913  PRODUTO NÃO INFORMADO  1684.97        Roupas  \n",
      "923             Produto 99   723.89  Desconhecida  \n",
      "\n",
      "[93 rows x 14 columns]\n"
     ]
    }
   ],
   "source": [
    "print(df_resumo[df_resumo[\"data\"].isnull()])\n"
   ]
  },
  {
   "cell_type": "markdown",
   "id": "ff318221",
   "metadata": {},
   "source": [
    "## Calculando os dados Pedidos como: \n",
    ">- Total de vendas por funcionário\n",
    ">- Ticket médio por produto\n",
    ">- Vendas por categoria\n",
    ">- Top 5 vendedores\n",
    "\n"
   ]
  },
  {
   "cell_type": "code",
   "execution_count": null,
   "id": "6ac671b9",
   "metadata": {},
   "outputs": [],
   "source": [
    "\n",
    "\n",
    "# Configurações visuais\n",
    "sns.set(style=\"whitegrid\")\n",
    "pdf_path = \"relatorio-final.pdf\"\n",
    "\n",
    "# KPIs\n",
    "receita_total = df_resumo[\"valor_total\"].sum()\n",
    "num_vendas = df_resumo[\"id_venda\"].nunique()\n",
    "ticket_medio = receita_total / max(num_vendas, 1)\n",
    "\n",
    "# Tabelas\n",
    "total_func = (\n",
    "    df_resumo.groupby(\"nome_funcionario\")\n",
    "    .agg(receita_total=(\"valor_total\", \"sum\"),\n",
    "         num_vendas=(\"id_venda\", \"nunique\"))\n",
    "    .reset_index()\n",
    "    .sort_values(\"receita_total\", ascending=False)\n",
    ")\n",
    "\n",
    "ticket_prod = (\n",
    "    df_resumo.groupby(\"nome_produto\")\n",
    "    .agg(receita_total=(\"valor_total\", \"sum\"),\n",
    "         num_vendas=(\"id_venda\", \"nunique\"))\n",
    "    .reset_index()\n",
    ")\n",
    "ticket_prod[\"ticket_medio\"] = ticket_prod[\"receita_total\"] / ticket_prod[\"num_vendas\"]\n",
    "ticket_prod = ticket_prod.sort_values(\"ticket_medio\", ascending=False)\n",
    "\n",
    "cat = df_resumo.groupby(\"categoria\")[\"valor_total\"].sum().reset_index()\n",
    "cat = cat.sort_values(\"valor_total\", ascending=False)\n",
    "\n",
    "# Geração do PDF\n",
    "with PdfPages(pdf_path) as pdf:\n",
    "    # Página 1 – KPIs\n",
    "    fig, ax = plt.subplots(figsize=(11.69, 8.27))  # A4 landscape\n",
    "    ax.axis(\"off\")\n",
    "    ax.text(0.05, 0.95, \"📊 Relatório Final – BUS2\", fontsize=20, weight=\"bold\")\n",
    "    ax.text(0.05, 0.9, f\"Receita total: R$ {receita_total:,.2f}\".replace(\",\", \"X\").replace(\".\", \",\").replace(\"X\", \".\"))\n",
    "    ax.text(0.05, 0.86, f\"Nº de vendas: {num_vendas:,}\".replace(\",\", \".\"))\n",
    "    ax.text(0.05, 0.82, f\"Ticket médio: R$ {ticket_medio:,.2f}\".replace(\",\", \"X\").replace(\".\", \",\").replace(\"X\", \".\"))\n",
    "\n",
    "    top5 = total_func.nlargest(5, \"receita_total\").copy()\n",
    "    top5[\"receita_total\"] = top5[\"receita_total\"].map(lambda x: f\"R$ {x:,.2f}\".replace(\",\", \"X\").replace(\".\", \",\").replace(\"X\", \".\"))\n",
    "    tbl = ax.table(cellText=top5.values,\n",
    "                   colLabels=top5.columns,\n",
    "                   loc=\"center right\",\n",
    "                   colLoc=\"left\",\n",
    "                   cellLoc=\"left\")\n",
    "    tbl.auto_set_font_size(False)\n",
    "    tbl.set_fontsize(8)\n",
    "    tbl.scale(1, 1.5)\n",
    "\n",
    "    pdf.savefig(fig)\n",
    "    plt.close(fig)\n",
    "\n",
    "    # Página 2 – Receita por funcionário\n",
    "    fig, ax = plt.subplots(figsize=(11.69, 8.27))\n",
    "    top5 = total_func.nlargest(5, \"receita_total\")\n",
    "    sns.barplot(data=top5, y=\"nome_funcionario\", x=\"receita_total\", ax=ax)\n",
    "    ax.set_title(\"Receita por Funcionário (Top 5)\")\n",
    "    ax.set_xlabel(\"Receita (R$)\")\n",
    "    ax.set_ylabel(\"\")\n",
    "    pdf.savefig(fig)\n",
    "    plt.close(fig)\n",
    "\n",
    "    # Página 3 – Receita por categoria\n",
    "    fig, ax = plt.subplots(figsize=(11.69, 8.27))\n",
    "    sns.barplot(data=cat, y=\"categoria\", x=\"valor_total\", ax=ax)\n",
    "    ax.set_title(\"Receita por Categoria\")\n",
    "    ax.set_xlabel(\"Receita (R$)\")\n",
    "    ax.set_ylabel(\"\")\n",
    "    pdf.savefig(fig)\n",
    "    plt.close(fig)\n",
    "\n",
    "    # Página 4 – Ticket médio por produto\n",
    "    fig, ax = plt.subplots(figsize=(11.69, 8.27))\n",
    "    top_tp = ticket_prod.nlargest(10, \"ticket_medio\")\n",
    "    sns.barplot(data=top_tp, y=\"nome_produto\", x=\"ticket_medio\", ax=ax)\n",
    "    ax.set_title(\"Ticket Médio por Produto (Top 10)\")\n",
    "    ax.set_xlabel(\"Ticket médio (R$)\")\n",
    "    ax.set_ylabel(\"\")\n",
    "    pdf.savefig(fig)\n",
    "    plt.close(fig)\n",
    "\n",
    "    # Página 5 – Metadados\n",
    "    fig, ax = plt.subplots(figsize=(11.69, 8.27))\n",
    "    ax.axis(\"off\")\n",
    "    ax.text(0.05, 0.95, \"🧾 Metadados do resumo de vendas\", fontsize=16, weight=\"bold\")\n",
    "    ax.text(0.05, 0.9, f\"Nº de linhas: {len(df_resumo):,}\".replace(\",\", \".\"))\n",
    "    ax.text(0.05, 0.86, f\"Nº de colunas: {len(df_resumo.columns)}\")\n",
    "    ax.text(0.05, 0.82, f\"Colunas: {', '.join(df_resumo.columns)}\")\n",
    "    pdf.savefig(fig)\n",
    "    plt.close(fig)\n",
    "\n",
    "print(\"✅ Relatório gerado com sucesso: relatorio-final.pdf\")"
   ]
  },
  {
   "cell_type": "code",
   "execution_count": 99,
   "id": "e55652a2",
   "metadata": {},
   "outputs": [],
   "source": [
    "conn = sqlite3.connect(\"resumo-vendas.db\")\n",
    "df_resumo.to_sql(\"resumo_vendas\", conn, if_exists=\"replace\", index=False)\n",
    "conn.close()"
   ]
  }
 ],
 "metadata": {
  "kernelspec": {
   "display_name": "venv (3.13.1)",
   "language": "python",
   "name": "python3"
  },
  "language_info": {
   "codemirror_mode": {
    "name": "ipython",
    "version": 3
   },
   "file_extension": ".py",
   "mimetype": "text/x-python",
   "name": "python",
   "nbconvert_exporter": "python",
   "pygments_lexer": "ipython3",
   "version": "3.13.1"
  }
 },
 "nbformat": 4,
 "nbformat_minor": 5
}
